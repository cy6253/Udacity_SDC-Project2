{
 "cells": [
  {
   "cell_type": "code",
   "execution_count": null,
   "metadata": {},
   "outputs": [],
   "source": [
    "import tensorflow as tf\n",
    "import numpy as np\n",
    "import matplotlib.pyplot as plt\n",
    "import random\n",
    "from tensorflow.examples.tutorials.mnist import input_data\n",
    "\n",
    "mnist = input_data.read_data_sets(\"MNIST_data/\", one_hot = True ,reshape=False)\n",
    "X_train, y_train = mnist.train.images, mnist.train.labels\n",
    "\n",
    "assert(len(X_train) == len(y_train))\n",
    "\n",
    "print()\n",
    "print(\"Image Shape: {}\".format(X_train[0].shape))\n",
    "print(\"Image Shape: {}\".format(y_train[0].shape))\n",
    "print()\n",
    "print(\"Training Set:   {} samples\".format(len(X_train)))"
   ]
  },
  {
   "cell_type": "code",
   "execution_count": 1,
   "metadata": {},
   "outputs": [
    {
     "ename": "NameError",
     "evalue": "name 'np' is not defined",
     "output_type": "error",
     "traceback": [
      "\u001b[0;31m---------------------------------------------------------------------------\u001b[0m",
      "\u001b[0;31mNameError\u001b[0m                                 Traceback (most recent call last)",
      "\u001b[0;32m<ipython-input-1-8aa682728bf8>\u001b[0m in \u001b[0;36m<module>\u001b[0;34m\u001b[0m\n\u001b[0;32m----> 1\u001b[0;31m \u001b[0mX_train\u001b[0m      \u001b[0;34m=\u001b[0m \u001b[0mnp\u001b[0m\u001b[0;34m.\u001b[0m\u001b[0mpad\u001b[0m\u001b[0;34m(\u001b[0m\u001b[0mX_train\u001b[0m\u001b[0;34m,\u001b[0m \u001b[0;34m(\u001b[0m\u001b[0;34m(\u001b[0m\u001b[0;36m0\u001b[0m\u001b[0;34m,\u001b[0m\u001b[0;36m0\u001b[0m\u001b[0;34m)\u001b[0m\u001b[0;34m,\u001b[0m\u001b[0;34m(\u001b[0m\u001b[0;36m2\u001b[0m\u001b[0;34m,\u001b[0m\u001b[0;36m2\u001b[0m\u001b[0;34m)\u001b[0m\u001b[0;34m,\u001b[0m\u001b[0;34m(\u001b[0m\u001b[0;36m2\u001b[0m\u001b[0;34m,\u001b[0m\u001b[0;36m2\u001b[0m\u001b[0;34m)\u001b[0m\u001b[0;34m,\u001b[0m\u001b[0;34m(\u001b[0m\u001b[0;36m0\u001b[0m\u001b[0;34m,\u001b[0m\u001b[0;36m0\u001b[0m\u001b[0;34m)\u001b[0m\u001b[0;34m)\u001b[0m\u001b[0;34m,\u001b[0m \u001b[0;34m'constant'\u001b[0m\u001b[0;34m)\u001b[0m\u001b[0;34m\u001b[0m\u001b[0m\n\u001b[0m\u001b[1;32m      2\u001b[0m \u001b[0;34m\u001b[0m\u001b[0m\n\u001b[1;32m      3\u001b[0m \u001b[0mprint\u001b[0m\u001b[0;34m(\u001b[0m\u001b[0;34m\"Updated Image Shape: {}\"\u001b[0m\u001b[0;34m.\u001b[0m\u001b[0mformat\u001b[0m\u001b[0;34m(\u001b[0m\u001b[0mX_train\u001b[0m\u001b[0;34m[\u001b[0m\u001b[0;36m0\u001b[0m\u001b[0;34m]\u001b[0m\u001b[0;34m.\u001b[0m\u001b[0mshape\u001b[0m\u001b[0;34m)\u001b[0m\u001b[0;34m)\u001b[0m\u001b[0;34m\u001b[0m\u001b[0m\n\u001b[1;32m      4\u001b[0m \u001b[0mprint\u001b[0m\u001b[0;34m(\u001b[0m\u001b[0;34m\"Updated Image Shape: {}\"\u001b[0m\u001b[0;34m.\u001b[0m\u001b[0mformat\u001b[0m\u001b[0;34m(\u001b[0m\u001b[0my_train\u001b[0m\u001b[0;34m[\u001b[0m\u001b[0;36m0\u001b[0m\u001b[0;34m]\u001b[0m\u001b[0;34m.\u001b[0m\u001b[0mshape\u001b[0m\u001b[0;34m)\u001b[0m\u001b[0;34m)\u001b[0m\u001b[0;34m\u001b[0m\u001b[0m\n",
      "\u001b[0;31mNameError\u001b[0m: name 'np' is not defined"
     ]
    }
   ],
   "source": [
    "X_train      = np.pad(X_train, ((0,0),(2,2),(2,2),(0,0)), 'constant')\n",
    "    \n",
    "print(\"Updated Image Shape: {}\".format(X_train[0].shape))\n",
    "print(\"Updated Image Shape: {}\".format(y_train[0].shape))"
   ]
  },
  {
   "cell_type": "code",
   "execution_count": 5,
   "metadata": {},
   "outputs": [],
   "source": [
    "X = tf.placeholder(tf.float32, [None, 32, 32, 1])\n",
    "Y = tf.placeholder(tf.int32, [None,10])\n",
    "is_training = tf.placeholder(tf.bool)\n",
    "\n",
    "#LeNet\n",
    "conv1=tf.layers.conv2d(X, 6, [5, 5], activation=tf.nn.relu)\n",
    "conv1=tf.layers.max_pooling2d(conv1, [2, 2], [2, 2])\n",
    "conv1 = tf.layers.dropout(conv1, 0.7, is_training)\n",
    "\n",
    "conv2=tf.layers.conv2d(conv1, 16, [5, 5], activation=tf.nn.relu)\n",
    "conv2=tf.layers.max_pooling2d(conv2, [2, 2], [2, 2])\n",
    "conv2 = tf.layers.dropout(conv2, 0.7, is_training)\n",
    "\n",
    "fc1 = tf.contrib.layers.flatten(conv2)\n",
    "fc1 = tf.layers.dense(fc1, 120, activation=tf.nn.relu)\n",
    "fc1 = tf.layers.dropout(fc1, 0.5, is_training)\n",
    "\n",
    "fc2 = tf.layers.dense(fc1, 84, activation=tf.nn.relu)\n",
    "fc2 = tf.layers.dropout(fc2, 0.5, is_training)\n",
    "\n",
    "logits = tf.layers.dense(fc2, 10, activation=None)"
   ]
  },
  {
   "cell_type": "code",
   "execution_count": null,
   "metadata": {},
   "outputs": [],
   "source": [
    "def train():\n",
    "    \n",
    "    cost = tf.reduce_mean(tf.nn.softmax_cross_entropy_with_logits_v2(logits=logits, labels=Y))\n",
    "    optimizer = tf.train.AdamOptimizer(0.001).minimize(cost)\n",
    "\n",
    "    sess.run(tf.global_variables_initializer())\n",
    "    \n",
    "    batch_size = 128\n",
    "    epoch = 10\n",
    "\n",
    "    for epoch in range(epoch):\n",
    "        \n",
    "        total_cost = 0\n",
    "        \n",
    "        for i in range(0, len(X_train), batch_size):\n",
    "            end = i + batch_size\n",
    "            batch_xs, batch_ys = X_train[i:end], y_train[i:end]\n",
    "            _, cost_val = sess.run([optimizer, cost],feed_dict={X: batch_xs, Y: batch_ys, is_training: True})\n",
    "            total_cost += cost_val\n",
    "        print('Epoch:', '%04d' % (epoch + 1),'Avg. cost =', '{:.4f}'.format(total_cost / (len(X_train)/batch_size)))\n",
    "    print('최적화 완료!')"
   ]
  },
  {
   "cell_type": "code",
   "execution_count": null,
   "metadata": {},
   "outputs": [],
   "source": [
    "def save_variables():\n",
    "\n",
    "    train()\n",
    "    saver = tf.train.Saver()\n",
    "    saver.save(sess, 'weights/test.ckpt')"
   ]
  },
  {
   "cell_type": "code",
   "execution_count": null,
   "metadata": {},
   "outputs": [],
   "source": [
    "def restore_variables():\n",
    "    \n",
    "    saver = tf.train.Saver()\n",
    "    saver.restore(sess, 'weights/test.ckpt')\n",
    "    \n",
    "    index = random.randint(0, len(X_train))\n",
    "    sample_image = X_train[index].squeeze()\n",
    "    \n",
    "    plt.imshow(sample_image, cmap='Greys')\n",
    "    sample_image = sample_image.reshape(-1, 32, 32, 1)\n",
    "    print (sess.run(tf.argmax(logits, 1), feed_dict = { X : sample_image}))"
   ]
  },
  {
   "cell_type": "code",
   "execution_count": null,
   "metadata": {},
   "outputs": [],
   "source": [
    "with tf.Session() as sess:\n",
    "\n",
    "    if __name__ == '__main__' :\n",
    "        save_variables()\n",
    "        restore_variables()"
   ]
  }
 ],
 "metadata": {
  "kernelspec": {
   "display_name": "Python 3",
   "language": "python",
   "name": "python3"
  },
  "language_info": {
   "codemirror_mode": {
    "name": "ipython",
    "version": 3
   },
   "file_extension": ".py",
   "mimetype": "text/x-python",
   "name": "python",
   "nbconvert_exporter": "python",
   "pygments_lexer": "ipython3",
   "version": "3.5.2"
  },
  "widgets": {
   "state": {},
   "version": "1.1.2"
  }
 },
 "nbformat": 4,
 "nbformat_minor": 2
}
